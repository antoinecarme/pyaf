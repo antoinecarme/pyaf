{
 "cells": [
  {
   "cell_type": "code",
   "execution_count": 1,
   "metadata": {
    "collapsed": false,
    "scrolled": true
   },
   "outputs": [],
   "source": [
    "import pandas as pd\n",
    "import numpy as np\n",
    "import datetime\n",
    "\n",
    "import threading\n",
    "from multiprocessing.dummy import Pool as ThreadPool\n",
    "\n",
    "import SignalDecomposition_Time as tsti\n",
    "import SignalDecomposition_Signal as tssig\n",
    "import SignalDecomposition_Perf as tsperf\n",
    "import SignalDecomposition_Trend as tstr\n",
    "import SignalDecomposition_Cycle as tscy\n",
    "import SignalDecomposition_AR as tsar\n",
    "import SignalDecomposition_Quant as tsquant\n",
    "import SignalDecomposition_Plots as tsplot\n"
   ]
  },
  {
   "cell_type": "code",
   "execution_count": 2,
   "metadata": {
    "collapsed": true
   },
   "outputs": [],
   "source": [
    "q1 = tssig.cSignalTransform_Quantize(5)"
   ]
  },
  {
   "cell_type": "code",
   "execution_count": 3,
   "metadata": {
    "collapsed": false
   },
   "outputs": [
    {
     "data": {
      "text/plain": [
       "{'mQuantiles': 5}"
      ]
     },
     "execution_count": 3,
     "metadata": {},
     "output_type": "execute_result"
    }
   ],
   "source": [
    "q1.__dict__"
   ]
  },
  {
   "cell_type": "code",
   "execution_count": 4,
   "metadata": {
    "collapsed": true
   },
   "outputs": [],
   "source": [
    "def testTranform(tr1):\n",
    "    df = pd.DataFrame();\n",
    "    df['A'] = np.random.normal(0, 1.0, 10);\n",
    "    sig = df['A'];\n",
    "    \n",
    "    tr1.fit(sig)\n",
    "    sig1 = tr1.apply(sig);\n",
    "    sig2 = tr1.invert(sig1)\n",
    "    n = np.linalg.norm(sig2 - sig)\n",
    "    print(sig)\n",
    "    print(sig1)\n",
    "    print(sig2)    \n",
    "    print(\"'\" + tr1.get_name(\"Test\") + \"'\" , \" : \", n)\n",
    "    assert(n <= 1.0e-10)    \n"
   ]
  },
  {
   "cell_type": "code",
   "execution_count": 5,
   "metadata": {
    "collapsed": false
   },
   "outputs": [
    {
     "name": "stdout",
     "output_type": "stream",
     "text": [
      "0   -0.313364\n",
      "1    1.120223\n",
      "2   -0.093486\n",
      "3    0.934359\n",
      "4    0.474393\n",
      "5   -1.458316\n",
      "6    0.773846\n",
      "7    1.494313\n",
      "8    1.390849\n",
      "9    0.655923\n",
      "Name: A, dtype: float64\n",
      "0    1\n",
      "1    4\n",
      "2    1\n",
      "3    3\n",
      "4    2\n",
      "5    0\n",
      "6    3\n",
      "7    4\n",
      "8    4\n",
      "9    2\n",
      "Name: A, dtype: int64\n",
      "0   -0.137462\n",
      "1    1.174349\n",
      "2   -0.137462\n",
      "3    0.838051\n",
      "4    0.583311\n",
      "5   -1.458316\n",
      "6    0.838051\n",
      "7    1.174349\n",
      "8    1.174349\n",
      "9    0.583311\n",
      "Name: A, dtype: float64\n",
      "'Quantized_5_Test'  :  0.464314211152\n"
     ]
    },
    {
     "ename": "AssertionError",
     "evalue": "",
     "output_type": "error",
     "traceback": [
      "\u001b[1;31m---------------------------------------------------------------------------\u001b[0m",
      "\u001b[1;31mAssertionError\u001b[0m                            Traceback (most recent call last)",
      "\u001b[1;32m<ipython-input-5-6004ac475e39>\u001b[0m in \u001b[0;36m<module>\u001b[1;34m()\u001b[0m\n\u001b[1;32m----> 1\u001b[1;33m \u001b[0mtestTranform\u001b[0m\u001b[1;33m(\u001b[0m\u001b[0mq1\u001b[0m\u001b[1;33m)\u001b[0m\u001b[1;33m\u001b[0m\u001b[0m\n\u001b[0m",
      "\u001b[1;32m<ipython-input-4-d9aee3f25dc6>\u001b[0m in \u001b[0;36mtestTranform\u001b[1;34m(tr1)\u001b[0m\n\u001b[0;32m     12\u001b[0m     \u001b[0mprint\u001b[0m\u001b[1;33m(\u001b[0m\u001b[0msig2\u001b[0m\u001b[1;33m)\u001b[0m\u001b[1;33m\u001b[0m\u001b[0m\n\u001b[0;32m     13\u001b[0m     \u001b[0mprint\u001b[0m\u001b[1;33m(\u001b[0m\u001b[1;34m\"'\"\u001b[0m \u001b[1;33m+\u001b[0m \u001b[0mtr1\u001b[0m\u001b[1;33m.\u001b[0m\u001b[0mget_name\u001b[0m\u001b[1;33m(\u001b[0m\u001b[1;34m\"Test\"\u001b[0m\u001b[1;33m)\u001b[0m \u001b[1;33m+\u001b[0m \u001b[1;34m\"'\"\u001b[0m \u001b[1;33m,\u001b[0m \u001b[1;34m\" : \"\u001b[0m\u001b[1;33m,\u001b[0m \u001b[0mn\u001b[0m\u001b[1;33m)\u001b[0m\u001b[1;33m\u001b[0m\u001b[0m\n\u001b[1;32m---> 14\u001b[1;33m     \u001b[1;32massert\u001b[0m\u001b[1;33m(\u001b[0m\u001b[0mn\u001b[0m \u001b[1;33m<=\u001b[0m \u001b[1;36m1.0e-10\u001b[0m\u001b[1;33m)\u001b[0m\u001b[1;33m\u001b[0m\u001b[0m\n\u001b[0m",
      "\u001b[1;31mAssertionError\u001b[0m: "
     ]
    }
   ],
   "source": [
    "testTranform(q1)"
   ]
  },
  {
   "cell_type": "code",
   "execution_count": 6,
   "metadata": {
    "collapsed": false
   },
   "outputs": [
    {
     "data": {
      "text/plain": [
       "{0: -1.4583160505121817,\n",
       " 1: -0.13746181675358374,\n",
       " 2: 0.58331104322933702,\n",
       " 3: 0.83805120761770202,\n",
       " 4: 1.1743485606535315}"
      ]
     },
     "execution_count": 6,
     "metadata": {},
     "output_type": "execute_result"
    }
   ],
   "source": [
    "q1.mCurve"
   ]
  },
  {
   "cell_type": "code",
   "execution_count": null,
   "metadata": {
    "collapsed": false
   },
   "outputs": [],
   "source": [
    "int(1.51)"
   ]
  },
  {
   "cell_type": "code",
   "execution_count": null,
   "metadata": {
    "collapsed": true
   },
   "outputs": [],
   "source": []
  }
 ],
 "metadata": {
  "kernelspec": {
   "display_name": "Python 3",
   "language": "python",
   "name": "python3"
  },
  "language_info": {
   "codemirror_mode": {
    "name": "ipython",
    "version": 3
   },
   "file_extension": ".py",
   "mimetype": "text/x-python",
   "name": "python",
   "nbconvert_exporter": "python",
   "pygments_lexer": "ipython3",
   "version": "3.5.2rc1"
  }
 },
 "nbformat": 4,
 "nbformat_minor": 0
}
