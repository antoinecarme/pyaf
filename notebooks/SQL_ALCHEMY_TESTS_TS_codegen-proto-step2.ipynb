{
 "cells": [
  {
   "cell_type": "code",
   "execution_count": null,
   "metadata": {
    "collapsed": false
   },
   "outputs": [],
   "source": [
    "\n",
    "import pandas as pd\n",
    "import numpy as np\n",
    "import AutoForecast as autof\n",
    "import Bench.TS_datasets as tsds\n",
    "#import SignalDecomposition_Perf as tsperf\n",
    "\n",
    "\n",
    "%matplotlib inline  \n",
    "\n",
    "import pandas as pd\n",
    "import numpy as np\n",
    "import sys\n",
    "import datetime as dt\n",
    "\n",
    "from sqlalchemy import *\n",
    "#from sqlalchemy import desc, nullsfirst\n",
    "import sqlalchemy"
   ]
  },
  {
   "cell_type": "code",
   "execution_count": null,
   "metadata": {
    "collapsed": false
   },
   "outputs": [],
   "source": [
    "sqlalchemy.sql.expression.func.AAA"
   ]
  },
  {
   "cell_type": "code",
   "execution_count": null,
   "metadata": {
    "collapsed": true
   },
   "outputs": [],
   "source": []
  },
  {
   "cell_type": "code",
   "execution_count": null,
   "metadata": {
    "collapsed": true
   },
   "outputs": [],
   "source": []
  },
  {
   "cell_type": "code",
   "execution_count": null,
   "metadata": {
    "collapsed": false
   },
   "outputs": [],
   "source": [
    "b1 = tsds.load_airline_passengers()\n",
    "df = b1.mPastData\n",
    "\n",
    "\n",
    "def convert_double_to_datetime(x):\n",
    "    ratio = (x - int(x))\n",
    "    fulldate = dt.datetime(int(x), 1, 1, 0, 0, 0)\n",
    "    year_length = dt.datetime(int(x) + 1, 1, 1, 0, 0, 0) - fulldate\n",
    "    fulldate = fulldate + dt.timedelta(days = int(year_length.days*ratio))\n",
    "    return fulldate\n",
    "\n",
    "lDateCol = 'time';\n",
    "df[lDateCol] = df[lDateCol].apply(lambda x : convert_double_to_datetime(x))\n",
    "    \n",
    "lAutoF = autof.cAutoForecast()\n",
    "lAutoF.mOptions.mDebugCycles = True\n",
    "lAutoF\n",
    "\n",
    "lAutoF.train(df , 'time' , 'AirPassengers' , 12)\n",
    "lAutoF.getModelInfo()"
   ]
  },
  {
   "cell_type": "code",
   "execution_count": null,
   "metadata": {
    "collapsed": false
   },
   "outputs": [],
   "source": [
    "lAutoF.generateCode()"
   ]
  },
  {
   "cell_type": "code",
   "execution_count": null,
   "metadata": {
    "collapsed": false
   },
   "outputs": [],
   "source": [
    "import TS_CodeGen_Objects as tscodegen\n",
    "lCodeGenerator = tscodegen.cDecompositionCodeGenObject();\n",
    "lSQL = lCodeGenerator.testGeneration(lAutoF);\n"
   ]
  },
  {
   "cell_type": "code",
   "execution_count": null,
   "metadata": {
    "collapsed": false
   },
   "outputs": [],
   "source": [
    "lCodeGenerator.mEngine.table_names()"
   ]
  },
  {
   "cell_type": "code",
   "execution_count": null,
   "metadata": {
    "collapsed": false
   },
   "outputs": [],
   "source": [
    "sqlalchemy.types.Interval?"
   ]
  },
  {
   "cell_type": "code",
   "execution_count": null,
   "metadata": {
    "collapsed": true
   },
   "outputs": [],
   "source": []
  }
 ],
 "metadata": {
  "kernelspec": {
   "display_name": "Python 3",
   "language": "python",
   "name": "python3"
  },
  "language_info": {
   "codemirror_mode": {
    "name": "ipython",
    "version": 3
   },
   "file_extension": ".py",
   "mimetype": "text/x-python",
   "name": "python",
   "nbconvert_exporter": "python",
   "pygments_lexer": "ipython3",
   "version": "3.5.2+"
  }
 },
 "nbformat": 4,
 "nbformat_minor": 0
}
