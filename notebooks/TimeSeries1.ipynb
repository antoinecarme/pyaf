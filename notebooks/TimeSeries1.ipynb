{
 "cells": [
  {
   "cell_type": "code",
   "execution_count": null,
   "metadata": {
    "collapsed": false
   },
   "outputs": [],
   "source": [
    "\n",
    "import pandas as pd\n",
    "import numpy as np\n"
   ]
  },
  {
   "cell_type": "code",
   "execution_count": null,
   "metadata": {
    "collapsed": false
   },
   "outputs": [],
   "source": [
    "\n",
    "def load_airline_passengers() :\n",
    "    trainfile = \"https://vincentarelbundock.github.io/Rdatasets/csv/datasets/AirPassengers.csv\"\n",
    "\n",
    "    cols = [\"ID\" , \"time\", \"AirPassengers\"];\n",
    "\n",
    "    df_train = pd.read_csv(trainfile, names = cols, sep=r',', index_col='ID', engine='python', skiprows=1);\n",
    "\n",
    "    df_train.to_csv(\"passengers_train.csv\");\n",
    "\n",
    "    return df_train"
   ]
  },
  {
   "cell_type": "code",
   "execution_count": null,
   "metadata": {
    "collapsed": false
   },
   "outputs": [],
   "source": [
    "df = load_airline_passengers()"
   ]
  },
  {
   "cell_type": "code",
   "execution_count": null,
   "metadata": {
    "collapsed": false
   },
   "outputs": [],
   "source": []
  },
  {
   "cell_type": "code",
   "execution_count": null,
   "metadata": {
    "collapsed": false
   },
   "outputs": [],
   "source": [
    "df.head()"
   ]
  },
  {
   "cell_type": "code",
   "execution_count": null,
   "metadata": {
    "collapsed": false
   },
   "outputs": [],
   "source": [
    "from datetime import datetime, date, time\n",
    "min_val = int(df.time.min())\n",
    "first_date = date(min_val, 1 , 1)\n",
    "\n",
    "def to_date_passengers(x):\n",
    "    return  date(int(x) , int(12 * (x - int(x) + 0.01)) + 1 , 1)\n",
    "\n",
    "df['real_time'] = df['time'].apply(to_date_passengers)"
   ]
  },
  {
   "cell_type": "code",
   "execution_count": null,
   "metadata": {
    "collapsed": false
   },
   "outputs": [],
   "source": [
    "#pd.read_csv?"
   ]
  },
  {
   "cell_type": "code",
   "execution_count": null,
   "metadata": {
    "collapsed": false
   },
   "outputs": [],
   "source": [
    "#df['AirPassengers'] = np.log(df['AirPassengers'])"
   ]
  },
  {
   "cell_type": "code",
   "execution_count": null,
   "metadata": {
    "collapsed": false
   },
   "outputs": [],
   "source": [
    "%matplotlib inline  "
   ]
  },
  {
   "cell_type": "code",
   "execution_count": null,
   "metadata": {
    "collapsed": false
   },
   "outputs": [],
   "source": [
    "first_date"
   ]
  },
  {
   "cell_type": "code",
   "execution_count": null,
   "metadata": {
    "collapsed": false
   },
   "outputs": [],
   "source": [
    "#df.plot?"
   ]
  },
  {
   "cell_type": "code",
   "execution_count": null,
   "metadata": {
    "collapsed": false
   },
   "outputs": [],
   "source": [
    "df.plot.line('real_time' , 'AirPassengers')"
   ]
  },
  {
   "cell_type": "code",
   "execution_count": null,
   "metadata": {
    "collapsed": false
   },
   "outputs": [],
   "source": [
    "def computePerf(signal , estimator):\n",
    "    MAPE = np.mean(abs((signal - estimator) / signal))\n",
    "    return MAPE"
   ]
  },
  {
   "cell_type": "markdown",
   "metadata": {},
   "source": [
    "# Trend Modeling"
   ]
  },
  {
   "cell_type": "code",
   "execution_count": null,
   "metadata": {
    "collapsed": false
   },
   "outputs": [],
   "source": [
    "\n",
    "import sklearn as skl\n",
    "import sklearn.preprocessing as preprocessing\n",
    "import sklearn.linear_model as linear_model\n",
    "\n",
    "ridge = linear_model.Ridge()\n",
    "ridge.fit(df[['time']].values, df[['AirPassengers']].values)\n",
    "\n",
    "Y_pred = ridge.predict(df[['time']])"
   ]
  },
  {
   "cell_type": "code",
   "execution_count": null,
   "metadata": {
    "collapsed": false
   },
   "outputs": [],
   "source": [
    "ridge.score(df[['time']].values, df[['AirPassengers']].values)"
   ]
  },
  {
   "cell_type": "code",
   "execution_count": null,
   "metadata": {
    "collapsed": false
   },
   "outputs": [],
   "source": [
    "df['Trend'] = Y_pred\n",
    "df['Trend_residue'] = df[['AirPassengers']].values - Y_pred\n"
   ]
  },
  {
   "cell_type": "code",
   "execution_count": null,
   "metadata": {
    "collapsed": false
   },
   "outputs": [],
   "source": [
    "MAPE_Trend = computePerf(df['AirPassengers'] , df['Trend'])\n",
    "MAPE_Trend"
   ]
  },
  {
   "cell_type": "code",
   "execution_count": null,
   "metadata": {
    "collapsed": false
   },
   "outputs": [],
   "source": [
    "df[['Trend_residue']].describe()"
   ]
  },
  {
   "cell_type": "code",
   "execution_count": null,
   "metadata": {
    "collapsed": false
   },
   "outputs": [],
   "source": [
    "df.plot.line('real_time' , ['AirPassengers' , 'Trend' , 'Trend_residue'])"
   ]
  },
  {
   "cell_type": "code",
   "execution_count": null,
   "metadata": {
    "collapsed": false
   },
   "outputs": [],
   "source": [
    "df.describe()"
   ]
  },
  {
   "cell_type": "markdown",
   "metadata": {},
   "source": [
    "# Cyclic Modeling"
   ]
  },
  {
   "cell_type": "code",
   "execution_count": null,
   "metadata": {
    "collapsed": false
   },
   "outputs": [],
   "source": [
    "df.head(12)"
   ]
  },
  {
   "cell_type": "code",
   "execution_count": null,
   "metadata": {
    "collapsed": false
   },
   "outputs": [],
   "source": [
    "def generate_cycles(dframe, signal, K):\n",
    "    perfs = pd.DataFrame()\n",
    "    cycle_frame = pd.DataFrame()\n",
    "    cycle_frame[signal] = dframe[signal]\n",
    "    MAPEDict = {}\n",
    "    for i in range(K):\n",
    "        if i > 1:\n",
    "            name = 'Cycle_' + str(i)\n",
    "            cycle_frame[name] = np.arange(0,cycle_frame.shape[0]) % i\n",
    "            cycle_frame[name + '_enc'] = cycle_frame[[name]].join(cycle_frame.groupby([name])[signal].mean() , on=name)[signal]\n",
    "            MAPE = computePerf(cycle_frame[signal] , cycle_frame[name + \"_enc\"])\n",
    "            perfs[name] = [MAPE]\n",
    "            MAPEDict[name] = MAPE\n",
    "    \n",
    "    best = min(MAPEDict, key=MAPEDict.get)\n",
    "    dframe[signal + '_bestCycle'] = cycle_frame[best + '_enc']\n",
    "    dframe[signal + '_bestCycle_Residue'] = cycle_frame[signal] - cycle_frame[best + '_enc']\n",
    "    \n",
    "    return dframe, cycle_frame, perfs.T, best\n",
    "\n"
   ]
  },
  {
   "cell_type": "code",
   "execution_count": null,
   "metadata": {
    "collapsed": false
   },
   "outputs": [],
   "source": [
    "cycles.groupby(['Cycle_24'])['Trend_residue'].mean().to_dict()"
   ]
  },
  {
   "cell_type": "code",
   "execution_count": null,
   "metadata": {
    "collapsed": false
   },
   "outputs": [],
   "source": [
    "dframe = pd.DataFrame()\n",
    "#dframe['Signal'] = np.arange(1,1000) % 32\n",
    "ncycles = 35\n",
    "df2 , cycles, perfs, best = generate_cycles(df, 'Trend_residue', ncycles)\n",
    "#perfs.sort_values(axis=1)\n",
    "MAPE_CYCLE = computePerf(df['Trend_residue'] , df['Trend_residue_bestCycle_Residue'])\n",
    "\n",
    "MAPE_CYCLE\n",
    "perfs"
   ]
  },
  {
   "cell_type": "code",
   "execution_count": null,
   "metadata": {
    "collapsed": false
   },
   "outputs": [],
   "source": [
    "best"
   ]
  },
  {
   "cell_type": "code",
   "execution_count": null,
   "metadata": {
    "collapsed": false
   },
   "outputs": [],
   "source": [
    "df.plot.line('time' , ['Trend_residue', 'Trend_residue_bestCycle' , 'Trend_residue_bestCycle_Residue', ] , figsize=[8, 8])"
   ]
  },
  {
   "cell_type": "code",
   "execution_count": null,
   "metadata": {
    "collapsed": false
   },
   "outputs": [],
   "source": [
    "df.plot.line('time' , ['Trend_residue_bestCycle_Residue', ] , figsize=[8, 8])"
   ]
  },
  {
   "cell_type": "markdown",
   "metadata": {},
   "source": [
    "# Autoregressive Modeling"
   ]
  },
  {
   "cell_type": "code",
   "execution_count": null,
   "metadata": {
    "collapsed": false
   },
   "outputs": [],
   "source": [
    "#df1 = pd.DataFrame()\n",
    "#df1['Signal'] = range(100)\n",
    "\n",
    "def generateLags(dframe , series, P):\n",
    "    mean1 = dframe[series].mean()\n",
    "    for i in range(P):\n",
    "        dframe[series+'_Lag' + str(i)] = dframe[series].shift(i)\n",
    "        #dframe[series+'_Lag' + str(i)].fillna(mean1)\n",
    "    dframe.fillna(mean1 , inplace=True)\n",
    "        \n",
    "\n",
    "generateLags(df , 'Trend_residue_bestCycle_Residue' , 36)        \n"
   ]
  },
  {
   "cell_type": "code",
   "execution_count": null,
   "metadata": {
    "collapsed": false
   },
   "outputs": [],
   "source": []
  },
  {
   "cell_type": "code",
   "execution_count": null,
   "metadata": {
    "collapsed": false
   },
   "outputs": [],
   "source": [
    "\n"
   ]
  },
  {
   "cell_type": "code",
   "execution_count": null,
   "metadata": {
    "collapsed": false
   },
   "outputs": [],
   "source": [
    "df.describe()"
   ]
  },
  {
   "cell_type": "code",
   "execution_count": null,
   "metadata": {
    "collapsed": false
   },
   "outputs": [],
   "source": [
    "df.head(12)"
   ]
  },
  {
   "cell_type": "code",
   "execution_count": null,
   "metadata": {
    "collapsed": false
   },
   "outputs": [],
   "source": []
  },
  {
   "cell_type": "code",
   "execution_count": null,
   "metadata": {
    "collapsed": false
   },
   "outputs": [],
   "source": [
    "ridge_AR = linear_model.Ridge()\n",
    "inputs = df.drop(['AirPassengers' , 'Trend',  'Trend', 'real_time',  'Trend_residue', 'Trend_residue_bestCycle', 'Trend_residue_bestCycle_Residue']  , axis=1).values\n",
    "target = df[['Trend_residue_bestCycle_Residue']].values\n",
    "ridge_AR.fit(inputs, target)\n",
    "\n",
    "AR_pred = ridge_AR.predict(inputs)"
   ]
  },
  {
   "cell_type": "code",
   "execution_count": null,
   "metadata": {
    "collapsed": false
   },
   "outputs": [],
   "source": [
    "AR_pred.shape"
   ]
  },
  {
   "cell_type": "code",
   "execution_count": null,
   "metadata": {
    "collapsed": false
   },
   "outputs": [],
   "source": [
    "df[['Trend_residue_bestCycle_Residue']].shape"
   ]
  },
  {
   "cell_type": "code",
   "execution_count": null,
   "metadata": {
    "collapsed": false
   },
   "outputs": [],
   "source": [
    "ridge_AR.score(inputs, target)"
   ]
  },
  {
   "cell_type": "code",
   "execution_count": null,
   "metadata": {
    "collapsed": false
   },
   "outputs": [],
   "source": [
    "df['AR'] = AR_pred\n",
    "df['AR_residue'] = df['Trend_residue_bestCycle_Residue'].values - df['AR']\n",
    "\n",
    "MAPE_AR = computePerf(df['Trend_residue_bestCycle_Residue'], df['AR'])\n",
    "\n",
    "MAPE_AR"
   ]
  },
  {
   "cell_type": "code",
   "execution_count": null,
   "metadata": {
    "collapsed": false
   },
   "outputs": [],
   "source": [
    "df.head()"
   ]
  },
  {
   "cell_type": "code",
   "execution_count": null,
   "metadata": {
    "collapsed": false
   },
   "outputs": [],
   "source": [
    "df.plot.line('Trend_residue_bestCycle_Residue' , 'AR' , figsize=[8, 8])"
   ]
  },
  {
   "cell_type": "code",
   "execution_count": null,
   "metadata": {
    "collapsed": false
   },
   "outputs": [],
   "source": [
    "#df.plot?"
   ]
  },
  {
   "cell_type": "code",
   "execution_count": null,
   "metadata": {
    "collapsed": false
   },
   "outputs": [],
   "source": [
    "df['Forecast'] = df['Trend'] + df['Trend_residue_bestCycle'] + df['AR']"
   ]
  },
  {
   "cell_type": "code",
   "execution_count": null,
   "metadata": {
    "collapsed": false
   },
   "outputs": [],
   "source": [
    "df.head()"
   ]
  },
  {
   "cell_type": "code",
   "execution_count": null,
   "metadata": {
    "collapsed": false
   },
   "outputs": [],
   "source": [
    "df.plot.line('time' , ['AirPassengers', 'Forecast', 'AR_residue'] , figsize=[8, 8])"
   ]
  },
  {
   "cell_type": "code",
   "execution_count": null,
   "metadata": {
    "collapsed": false
   },
   "outputs": [],
   "source": [
    "df.plot.line('time' , ['AR_residue'] , figsize=[8, 8])"
   ]
  },
  {
   "cell_type": "code",
   "execution_count": null,
   "metadata": {
    "collapsed": false
   },
   "outputs": [],
   "source": []
  },
  {
   "cell_type": "code",
   "execution_count": null,
   "metadata": {
    "collapsed": false
   },
   "outputs": [],
   "source": [
    "MAPE_MODEL = computePerf(df['AirPassengers'], df['Forecast'])\n",
    "\n",
    "MAPE_MODEL"
   ]
  },
  {
   "cell_type": "code",
   "execution_count": null,
   "metadata": {
    "collapsed": false
   },
   "outputs": [],
   "source": []
  }
 ],
 "metadata": {
  "kernelspec": {
   "display_name": "Python 3",
   "language": "python",
   "name": "python3"
  },
  "language_info": {
   "codemirror_mode": {
    "name": "ipython",
    "version": 3
   },
   "file_extension": ".py",
   "mimetype": "text/x-python",
   "name": "python",
   "nbconvert_exporter": "python",
   "pygments_lexer": "ipython3",
   "version": "3.5.2+"
  }
 },
 "nbformat": 4,
 "nbformat_minor": 0
}
