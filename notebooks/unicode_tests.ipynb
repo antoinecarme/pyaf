{
 "cells": [
  {
   "cell_type": "code",
   "execution_count": null,
   "metadata": {
    "collapsed": false
   },
   "outputs": [],
   "source": [
    "import unicodedata\n",
    "#import unicodedata2\n"
   ]
  },
  {
   "cell_type": "code",
   "execution_count": null,
   "metadata": {
    "collapsed": false
   },
   "outputs": [],
   "source": [
    "unicodedata.lookup('LEFT CURLY BRACKET')\n"
   ]
  },
  {
   "cell_type": "code",
   "execution_count": null,
   "metadata": {
    "collapsed": false
   },
   "outputs": [],
   "source": [
    "unicodedata.name(u'/')"
   ]
  },
  {
   "cell_type": "code",
   "execution_count": null,
   "metadata": {
    "collapsed": false
   },
   "outputs": [],
   "source": [
    "unicodedata.decimal(u'9')"
   ]
  },
  {
   "cell_type": "code",
   "execution_count": null,
   "metadata": {
    "collapsed": false
   },
   "outputs": [],
   "source": [
    "unicodedata.decimal(u'a')"
   ]
  },
  {
   "cell_type": "code",
   "execution_count": null,
   "metadata": {
    "collapsed": false
   },
   "outputs": [],
   "source": [
    "unicodedata.category(u'A') "
   ]
  },
  {
   "cell_type": "code",
   "execution_count": null,
   "metadata": {
    "collapsed": false
   },
   "outputs": [],
   "source": [
    "unicodedata.bidirectional(u'\\u0660')"
   ]
  },
  {
   "cell_type": "code",
   "execution_count": null,
   "metadata": {
    "collapsed": false
   },
   "outputs": [],
   "source": [
    "unicodedata.unidata_version"
   ]
  },
  {
   "cell_type": "code",
   "execution_count": null,
   "metadata": {
    "collapsed": false
   },
   "outputs": [],
   "source": [
    "def getcharInfo(c):\n",
    "    cinfo = \"\"\n",
    "    char = chr(c) \n",
    "    cat = unicodedata.category(char)\n",
    "    try:\n",
    "        name = unicodedata.name(char)\n",
    "    except ValueError:\n",
    "        name = \"NoName\"        \n",
    "    cinfo = cinfo + ('%04x' % c) + \" \" + char + \" \" + cat + \" \" + name + \"\\n\";\n",
    "    return cinfo\n",
    "    \n",
    "def getcharInfos(c1 , c2):\n",
    "    cinfo = \"\"\n",
    "    for c in range(c1 , 1 + c2):\n",
    "        cinfo = cinfo + getcharInfo(c)\n",
    "    return cinfo\n"
   ]
  },
  {
   "cell_type": "code",
   "execution_count": null,
   "metadata": {
    "collapsed": false,
    "scrolled": true
   },
   "outputs": [],
   "source": [
    "#print(getcharInfos(0x0500, 0x05FF))"
   ]
  },
  {
   "cell_type": "code",
   "execution_count": null,
   "metadata": {
    "collapsed": true
   },
   "outputs": [],
   "source": [
    "import time as time\n",
    "import locale as loc"
   ]
  },
  {
   "cell_type": "code",
   "execution_count": null,
   "metadata": {
    "collapsed": false
   },
   "outputs": [],
   "source": [
    "print(time.strftime(\"%a, %d %b %Y %H:%M:%S\"))"
   ]
  },
  {
   "cell_type": "code",
   "execution_count": null,
   "metadata": {
    "collapsed": false
   },
   "outputs": [],
   "source": [
    "loc.setlocale(loc.LC_TIME, \"sv_SE\") # swedish\n",
    "print(time.strftime(\"%a, %d %b %Y %H:%M:%S\"))"
   ]
  },
  {
   "cell_type": "code",
   "execution_count": null,
   "metadata": {
    "collapsed": false
   },
   "outputs": [],
   "source": [
    "loc.setlocale(loc.LC_TIME, \"fr_FR\") # fr\n",
    "print(time.strftime(\"%a, %d %b %Y %H:%M:%S\"))"
   ]
  },
  {
   "cell_type": "code",
   "execution_count": null,
   "metadata": {
    "collapsed": false
   },
   "outputs": [],
   "source": [
    "loc.k"
   ]
  },
  {
   "cell_type": "code",
   "execution_count": null,
   "metadata": {
    "collapsed": false
   },
   "outputs": [],
   "source": [
    "loc.nl_langinfo(loc.DAY_1)"
   ]
  },
  {
   "cell_type": "code",
   "execution_count": null,
   "metadata": {
    "collapsed": false
   },
   "outputs": [],
   "source": [
    "listLoc =  loc.locale_alias"
   ]
  },
  {
   "cell_type": "code",
   "execution_count": null,
   "metadata": {
    "collapsed": false
   },
   "outputs": [],
   "source": [
    "def dumpLocale():\n",
    "    string1 = time.strftime(\"%A %B\")\n",
    "    day1 = loc.nl_langinfo(loc.DAY_1)\n",
    "    day2 = loc.nl_langinfo(loc.DAY_2)\n",
    "    day3 = loc.nl_langinfo(loc.DAY_3)\n",
    "    day4 = loc.nl_langinfo(loc.DAY_4)\n",
    "    day5 = loc.nl_langinfo(loc.DAY_5)\n",
    "    day6 = loc.nl_langinfo(loc.DAY_6)\n",
    "    day7 = loc.nl_langinfo(loc.DAY_7)\n",
    "    string2 = day1 + \" \" + day2 + \" \" + day3 + \" \" + day4 + \" \" + day5 + \" \" + day6 + \" \" + day7 \n",
    "\n",
    "    mon1 = loc.nl_langinfo(loc.MON_1)\n",
    "    mon2 = loc.nl_langinfo(loc.MON_2)\n",
    "    mon3 = loc.nl_langinfo(loc.MON_3)\n",
    "    mon4 = loc.nl_langinfo(loc.MON_4)\n",
    "    mon5 = loc.nl_langinfo(loc.MON_5)\n",
    "    mon6 = loc.nl_langinfo(loc.MON_6)\n",
    "    mon7 = loc.nl_langinfo(loc.MON_7)\n",
    "    mon8 = loc.nl_langinfo(loc.MON_8)\n",
    "    mon9 = loc.nl_langinfo(loc.MON_9)\n",
    "    mon10 = loc.nl_langinfo(loc.MON_10)\n",
    "    mon11 = loc.nl_langinfo(loc.MON_11)\n",
    "    mon12 = loc.nl_langinfo(loc.MON_12)\n",
    "    string3 = mon1 + \" \" + mon2 + \" \" + mon3 + \" \" + mon4 + \" \" + \\\n",
    "              mon5 + \" \" + mon6 + \" \" + mon7 + \" \" + mon8 + \" \" + \\\n",
    "              mon9 + \" \" + mon10 + \" \" + mon11 + \" \" + mon12 \n",
    "    string4 = \"\" #loc.nl_langinfo(loc.YESEXPR)\n",
    "    return string1 + \"\\n\" + string2 + \"\\n\" + string3 + \"\\n\" + string4\n",
    "    \n"
   ]
  },
  {
   "cell_type": "code",
   "execution_count": null,
   "metadata": {
    "collapsed": false
   },
   "outputs": [],
   "source": [
    "dumpLocale()"
   ]
  },
  {
   "cell_type": "code",
   "execution_count": null,
   "metadata": {
    "collapsed": false
   },
   "outputs": [],
   "source": [
    "type(listLoc)"
   ]
  },
  {
   "cell_type": "code",
   "execution_count": null,
   "metadata": {
    "collapsed": false
   },
   "outputs": [],
   "source": [
    "for k in listLoc :\n",
    "    #print(k , listLoc[k])\n",
    "    try:\n",
    "        loc.setlocale(loc.LC_TIME, listLoc[k]) # fr\n",
    "        print(\"LOCALE_DUMP '\" + listLoc[k] + \"' \\n\" + dumpLocale())\n",
    "    except:\n",
    "        pass\n"
   ]
  },
  {
   "cell_type": "code",
   "execution_count": null,
   "metadata": {
    "collapsed": true
   },
   "outputs": [],
   "source": []
  },
  {
   "cell_type": "code",
   "execution_count": null,
   "metadata": {
    "collapsed": true
   },
   "outputs": [],
   "source": []
  }
 ],
 "metadata": {
  "kernelspec": {
   "display_name": "Python 3",
   "language": "python",
   "name": "python3"
  },
  "language_info": {
   "codemirror_mode": {
    "name": "ipython",
    "version": 3
   },
   "file_extension": ".py",
   "mimetype": "text/x-python",
   "name": "python",
   "nbconvert_exporter": "python",
   "pygments_lexer": "ipython3",
   "version": "3.5.2rc1"
  }
 },
 "nbformat": 4,
 "nbformat_minor": 0
}
